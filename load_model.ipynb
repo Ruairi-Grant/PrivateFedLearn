{
 "cells": [
  {
   "cell_type": "code",
   "execution_count": 3,
   "metadata": {},
   "outputs": [
    {
     "ename": "ImportError",
     "evalue": "cannot import name 'DPOptimizerClass' from 'tensorflow_privacy.privacy.optimizers.dp_optimizer_keras' (c:\\git_repos\\Thesis\\flowerEnv\\Lib\\site-packages\\tensorflow_privacy\\privacy\\optimizers\\dp_optimizer_keras.py)",
     "output_type": "error",
     "traceback": [
      "\u001b[1;31m---------------------------------------------------------------------------\u001b[0m",
      "\u001b[1;31mImportError\u001b[0m                               Traceback (most recent call last)",
      "Cell \u001b[1;32mIn[3], line 3\u001b[0m\n\u001b[0;32m      1\u001b[0m \u001b[38;5;28;01mfrom\u001b[39;00m \u001b[38;5;21;01mkeras\u001b[39;00m\u001b[38;5;21;01m.\u001b[39;00m\u001b[38;5;21;01mmodels\u001b[39;00m \u001b[38;5;28;01mimport\u001b[39;00m load_model\n\u001b[0;32m      2\u001b[0m \u001b[38;5;66;03m# Tensorflow Privacy\u001b[39;00m\n\u001b[1;32m----> 3\u001b[0m \u001b[38;5;28;01mfrom\u001b[39;00m \u001b[38;5;21;01mtensorflow_privacy\u001b[39;00m\u001b[38;5;21;01m.\u001b[39;00m\u001b[38;5;21;01mprivacy\u001b[39;00m\u001b[38;5;21;01m.\u001b[39;00m\u001b[38;5;21;01moptimizers\u001b[39;00m\u001b[38;5;21;01m.\u001b[39;00m\u001b[38;5;21;01mdp_optimizer_keras\u001b[39;00m \u001b[38;5;28;01mimport\u001b[39;00m DPKerasSGDOptimizer, DPOptimizerClass\n\u001b[0;32m      5\u001b[0m load_model(\u001b[38;5;124m'\u001b[39m\u001b[38;5;124mbest_model.h5\u001b[39m\u001b[38;5;124m'\u001b[39m, custom_objects\u001b[38;5;241m=\u001b[39m{\u001b[38;5;124m'\u001b[39m\u001b[38;5;124mMyOptimizer\u001b[39m\u001b[38;5;124m'\u001b[39m: DPOptimizerClass})\n",
      "\u001b[1;31mImportError\u001b[0m: cannot import name 'DPOptimizerClass' from 'tensorflow_privacy.privacy.optimizers.dp_optimizer_keras' (c:\\git_repos\\Thesis\\flowerEnv\\Lib\\site-packages\\tensorflow_privacy\\privacy\\optimizers\\dp_optimizer_keras.py)"
     ]
    }
   ],
   "source": [
    "from keras.models import load_model\n",
    "# Tensorflow Privacy\n",
    "from tensorflow_privacy.privacy.optimizers.dp_optimizer_keras import DPKerasSGDOptimizer, DPOptimizerClass\n",
    "\n",
    "load_model('best_model.h5', custom_objects={'MyOptimizer': DPOptimizerClass})"
   ]
  },
  {
   "cell_type": "code",
   "execution_count": null,
   "metadata": {},
   "outputs": [],
   "source": []
  }
 ],
 "metadata": {
  "kernelspec": {
   "display_name": "flowerEnv",
   "language": "python",
   "name": "python3"
  },
  "language_info": {
   "codemirror_mode": {
    "name": "ipython",
    "version": 3
   },
   "file_extension": ".py",
   "mimetype": "text/x-python",
   "name": "python",
   "nbconvert_exporter": "python",
   "pygments_lexer": "ipython3",
   "version": "3.11.6"
  }
 },
 "nbformat": 4,
 "nbformat_minor": 2
}
