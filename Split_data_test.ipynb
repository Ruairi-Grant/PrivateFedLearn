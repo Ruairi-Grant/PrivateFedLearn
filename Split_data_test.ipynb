{
 "cells": [
  {
   "cell_type": "code",
   "execution_count": 15,
   "metadata": {},
   "outputs": [],
   "source": [
    "import pandas as pd\n",
    "\n",
    "#TODO: test this\n",
    "# Assuming your dataframe is named df and the category column is named 'category'\n",
    "df= pd.read_csv('C:\\\\git_repos\\\\Thesis\\\\Datasets\\\\aptos2019-blindness-detection\\\\train.csv')\n",
    "\n",
    "import pandas as pd\n",
    "import numpy as np\n",
    "\n",
    "# Assuming your dataframe is named df and the category column is named 'category'\n",
    "\n",
    "\n",
    "import pandas as pd\n",
    "import numpy as np\n",
    "\n",
    "# Assuming your dataframe is named df and the category column is named 'diagnosis'\n",
    "\n",
    "# Step 1: Group by the diagnosis column\n",
    "grouped = df.groupby('diagnosis')\n",
    "\n",
    "# Step 2: Sort each group by the diagnosis column\n",
    "sorted_groups = {k: v.sort_values('diagnosis') for k, v in grouped}\n",
    "\n",
    "# Step 3: Split each group into four groups with slightly unequal sizes\n",
    "num_subgroups = 4\n",
    "subgroups = {k: [] for k in sorted_groups.keys()}\n",
    "for k, v in sorted_groups.items():\n",
    "    group_size = len(v)\n",
    "    subgroup_base_size = group_size // num_subgroups\n",
    "    remainder = group_size % num_subgroups\n",
    "    start = 0\n",
    "    for i in range(num_subgroups):\n",
    "        subgroup_size = subgroup_base_size + (1 if i < remainder else 0)\n",
    "        subgroup = v.iloc[start:start+subgroup_size]\n",
    "        subgroups[k].append(subgroup)\n",
    "        start += subgroup_size\n",
    "\n",
    "# Step 4: Combine subgroups from different diagnoses into the final groups\n",
    "final_groups = []\n",
    "for i in range(num_subgroups):\n",
    "    final_group = pd.concat([subgroups[k][i] for k in sorted_groups.keys()])\n",
    "    final_groups.append(final_group)\n",
    "\n",
    "# Now final_groups contains your four groups with slightly unequal sizes\n"
   ]
  },
  {
   "cell_type": "code",
   "execution_count": 16,
   "metadata": {},
   "outputs": [
    {
     "name": "stdout",
     "output_type": "stream",
     "text": [
      "Group 1: 918 rows\n",
      "Group 2: 916 rows\n",
      "Group 3: 915 rows\n",
      "Group 4: 913 rows\n"
     ]
    }
   ],
   "source": [
    "for i, group in enumerate(final_groups):\n",
    "    print(f\"Group {i+1}: {len(group)} rows\")\n"
   ]
  },
  {
   "cell_type": "code",
   "execution_count": 17,
   "metadata": {},
   "outputs": [
    {
     "name": "stdout",
     "output_type": "stream",
     "text": [
      "Group 1:\n",
      "  Diagnosis 0: 452 rows\n",
      "  Diagnosis 1: 93 rows\n",
      "  Diagnosis 2: 250 rows\n",
      "  Diagnosis 3: 49 rows\n",
      "  Diagnosis 4: 74 rows\n",
      "Group 2:\n",
      "  Diagnosis 0: 451 rows\n",
      "  Diagnosis 1: 93 rows\n",
      "  Diagnosis 2: 250 rows\n",
      "  Diagnosis 3: 48 rows\n",
      "  Diagnosis 4: 74 rows\n",
      "Group 3:\n",
      "  Diagnosis 0: 451 rows\n",
      "  Diagnosis 1: 92 rows\n",
      "  Diagnosis 2: 250 rows\n",
      "  Diagnosis 3: 48 rows\n",
      "  Diagnosis 4: 74 rows\n",
      "Group 4:\n",
      "  Diagnosis 0: 451 rows\n",
      "  Diagnosis 1: 92 rows\n",
      "  Diagnosis 2: 249 rows\n",
      "  Diagnosis 3: 48 rows\n",
      "  Diagnosis 4: 73 rows\n"
     ]
    }
   ],
   "source": [
    "for i, group in enumerate(final_groups):\n",
    "    print(f\"Group {i+1}:\")\n",
    "    grouped_by_category = group.groupby('diagnosis').size()\n",
    "    for category, count in grouped_by_category.items():\n",
    "        print(f\"  Diagnosis {category}: {count} rows\")"
   ]
  },
  {
   "cell_type": "code",
   "execution_count": 8,
   "metadata": {},
   "outputs": [
    {
     "name": "stdout",
     "output_type": "stream",
     "text": [
      "  Diagnosis 0: 1805 rows\n",
      "  Diagnosis 1: 370 rows\n",
      "  Diagnosis 2: 999 rows\n",
      "  Diagnosis 3: 193 rows\n",
      "  Diagnosis 4: 295 rows\n"
     ]
    }
   ],
   "source": [
    "all_grouped_by_diagnosis = df.groupby('diagnosis').size()\n",
    "for category, count in all_grouped_by_diagnosis.items():\n",
    "    print(f\"  Diagnosis {category}: {count} rows\")"
   ]
  },
  {
   "cell_type": "code",
   "execution_count": 13,
   "metadata": {},
   "outputs": [
    {
     "data": {
      "text/plain": [
       "2"
      ]
     },
     "execution_count": 13,
     "metadata": {},
     "output_type": "execute_result"
    }
   ],
   "source": [
    "370%4"
   ]
  },
  {
   "cell_type": "code",
   "execution_count": null,
   "metadata": {},
   "outputs": [],
   "source": []
  }
 ],
 "metadata": {
  "kernelspec": {
   "display_name": "flowerEnv",
   "language": "python",
   "name": "python3"
  },
  "language_info": {
   "codemirror_mode": {
    "name": "ipython",
    "version": 3
   },
   "file_extension": ".py",
   "mimetype": "text/x-python",
   "name": "python",
   "nbconvert_exporter": "python",
   "pygments_lexer": "ipython3",
   "version": "3.11.6"
  }
 },
 "nbformat": 4,
 "nbformat_minor": 2
}
